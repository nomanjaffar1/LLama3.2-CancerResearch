{
 "cells": [
  {
   "cell_type": "code",
   "execution_count": 1,
   "id": "e91b8cd7",
   "metadata": {
    "_cell_guid": "b1076dfc-b9ad-4769-8c92-a6c4dae69d19",
    "_uuid": "8f2839f25d086af736a60e9eeb907d3b93b6e0e5",
    "execution": {
     "iopub.execute_input": "2024-12-07T04:10:54.400901Z",
     "iopub.status.busy": "2024-12-07T04:10:54.400204Z",
     "iopub.status.idle": "2024-12-07T04:10:54.405090Z",
     "shell.execute_reply": "2024-12-07T04:10:54.404286Z"
    },
    "papermill": {
     "duration": 0.012121,
     "end_time": "2024-12-07T04:10:54.406823",
     "exception": false,
     "start_time": "2024-12-07T04:10:54.394702",
     "status": "completed"
    },
    "tags": []
   },
   "outputs": [],
   "source": [
    "# # This Python 3 environment comes with many helpful analytics libraries installed\n",
    "# # It is defined by the kaggle/python Docker image: https://github.com/kaggle/docker-python\n",
    "# # For example, here's several helpful packages to load\n",
    "\n",
    "# import numpy as np # linear algebra\n",
    "# import pandas as pd # data processing, CSV file I/O (e.g. pd.read_csv)\n",
    "\n",
    "# # Input data files are available in the read-only \"../input/\" directory\n",
    "# # For example, running this (by clicking run or pressing Shift+Enter) will list all files under the input directory\n",
    "\n",
    "# import os\n",
    "# for dirname, _, filenames in os.walk('/kaggle/input'):\n",
    "#     for filename in filenames:\n",
    "#         print(os.path.join(dirname, filename))\n",
    "\n",
    "# # You can write up to 20GB to the current directory (/kaggle/working/) that gets preserved as output when you create a version using \"Save & Run All\" \n",
    "# # You can also write temporary files to /kaggle/temp/, but they won't be saved outside of the current session"
   ]
  },
  {
   "cell_type": "code",
   "execution_count": 2,
   "id": "8c308216",
   "metadata": {
    "execution": {
     "iopub.execute_input": "2024-12-07T04:10:54.414388Z",
     "iopub.status.busy": "2024-12-07T04:10:54.414146Z",
     "iopub.status.idle": "2024-12-07T04:11:14.692821Z",
     "shell.execute_reply": "2024-12-07T04:11:14.691611Z"
    },
    "papermill": {
     "duration": 20.284828,
     "end_time": "2024-12-07T04:11:14.694997",
     "exception": false,
     "start_time": "2024-12-07T04:10:54.410169",
     "status": "completed"
    },
    "tags": []
   },
   "outputs": [],
   "source": [
    "%%capture\n",
    "%pip install -U transformers accelerate\n",
    "# %pip install pyaudio wave torchaudio datasets\n"
   ]
  },
  {
   "cell_type": "code",
   "execution_count": 3,
   "id": "26d887e4",
   "metadata": {
    "execution": {
     "iopub.execute_input": "2024-12-07T04:11:14.702995Z",
     "iopub.status.busy": "2024-12-07T04:11:14.702674Z",
     "iopub.status.idle": "2024-12-07T04:11:14.706585Z",
     "shell.execute_reply": "2024-12-07T04:11:14.705788Z"
    },
    "papermill": {
     "duration": 0.009662,
     "end_time": "2024-12-07T04:11:14.708091",
     "exception": false,
     "start_time": "2024-12-07T04:11:14.698429",
     "status": "completed"
    },
    "tags": []
   },
   "outputs": [],
   "source": [
    "# from transformers import pipeline\n",
    "\n",
    "# pipe = pipeline(\"text-to-speech\", model=\"suno/bark-small\", device=0)  # Use GPU (device 0)\n"
   ]
  },
  {
   "cell_type": "code",
   "execution_count": 4,
   "id": "88d20983",
   "metadata": {
    "execution": {
     "iopub.execute_input": "2024-12-07T04:11:14.716265Z",
     "iopub.status.busy": "2024-12-07T04:11:14.716022Z",
     "iopub.status.idle": "2024-12-07T04:11:14.719451Z",
     "shell.execute_reply": "2024-12-07T04:11:14.718826Z"
    },
    "papermill": {
     "duration": 0.009794,
     "end_time": "2024-12-07T04:11:14.720990",
     "exception": false,
     "start_time": "2024-12-07T04:11:14.711196",
     "status": "completed"
    },
    "tags": []
   },
   "outputs": [],
   "source": [
    "# text = \"\\n\\nI cannot predict the type of cancer based on a single sentence. Can I help you with anything else\"\n",
    "# output = pipe(text)\n",
    "# from IPython.display import Audio\n",
    "# Audio(output[\"audio\"], rate=output[\"sampling_rate\"])"
   ]
  },
  {
   "cell_type": "code",
   "execution_count": 5,
   "id": "3dac74df",
   "metadata": {
    "execution": {
     "iopub.execute_input": "2024-12-07T04:11:14.728012Z",
     "iopub.status.busy": "2024-12-07T04:11:14.727781Z",
     "iopub.status.idle": "2024-12-07T04:11:18.554600Z",
     "shell.execute_reply": "2024-12-07T04:11:18.553696Z"
    },
    "papermill": {
     "duration": 3.832182,
     "end_time": "2024-12-07T04:11:18.556254",
     "exception": false,
     "start_time": "2024-12-07T04:11:14.724072",
     "status": "completed"
    },
    "tags": []
   },
   "outputs": [
    {
     "data": {
      "text/html": [
       "<div>\n",
       "<style scoped>\n",
       "    .dataframe tbody tr th:only-of-type {\n",
       "        vertical-align: middle;\n",
       "    }\n",
       "\n",
       "    .dataframe tbody tr th {\n",
       "        vertical-align: top;\n",
       "    }\n",
       "\n",
       "    .dataframe thead th {\n",
       "        text-align: right;\n",
       "    }\n",
       "</style>\n",
       "<table border=\"1\" class=\"dataframe\">\n",
       "  <thead>\n",
       "    <tr style=\"text-align: right;\">\n",
       "      <th></th>\n",
       "      <th>doc</th>\n",
       "      <th>class</th>\n",
       "    </tr>\n",
       "  </thead>\n",
       "  <tbody>\n",
       "    <tr>\n",
       "      <th>0</th>\n",
       "      <td>Thyroid surgery in  children in a single insti...</td>\n",
       "      <td>Thyroid_Cancer</td>\n",
       "    </tr>\n",
       "    <tr>\n",
       "      <th>1</th>\n",
       "      <td>\" The adopted strategy was the same as that us...</td>\n",
       "      <td>Thyroid_Cancer</td>\n",
       "    </tr>\n",
       "    <tr>\n",
       "      <th>2</th>\n",
       "      <td>coronary arterybypass grafting thrombosis ï¬b...</td>\n",
       "      <td>Thyroid_Cancer</td>\n",
       "    </tr>\n",
       "    <tr>\n",
       "      <th>3</th>\n",
       "      <td>Solitary plasmacytoma SP of the skull is an u...</td>\n",
       "      <td>Thyroid_Cancer</td>\n",
       "    </tr>\n",
       "    <tr>\n",
       "      <th>4</th>\n",
       "      <td>This study aimed to investigate serum matrix ...</td>\n",
       "      <td>Thyroid_Cancer</td>\n",
       "    </tr>\n",
       "    <tr>\n",
       "      <th>...</th>\n",
       "      <td>...</td>\n",
       "      <td>...</td>\n",
       "    </tr>\n",
       "    <tr>\n",
       "      <th>7565</th>\n",
       "      <td>we report the case of a 24yearold man who pres...</td>\n",
       "      <td>Colon_Cancer</td>\n",
       "    </tr>\n",
       "    <tr>\n",
       "      <th>7566</th>\n",
       "      <td>among synchronous colorectal cancers scrcs rep...</td>\n",
       "      <td>Colon_Cancer</td>\n",
       "    </tr>\n",
       "    <tr>\n",
       "      <th>7567</th>\n",
       "      <td>the heterogeneity of cancer cells is generally...</td>\n",
       "      <td>Colon_Cancer</td>\n",
       "    </tr>\n",
       "    <tr>\n",
       "      <th>7568</th>\n",
       "      <td>\"adipogenesis is the process through which mes...</td>\n",
       "      <td>Colon_Cancer</td>\n",
       "    </tr>\n",
       "    <tr>\n",
       "      <th>7569</th>\n",
       "      <td>the periparturient period is one of the most c...</td>\n",
       "      <td>Colon_Cancer</td>\n",
       "    </tr>\n",
       "  </tbody>\n",
       "</table>\n",
       "<p>7570 rows × 2 columns</p>\n",
       "</div>"
      ],
      "text/plain": [
       "                                                    doc           class\n",
       "0     Thyroid surgery in  children in a single insti...  Thyroid_Cancer\n",
       "1     \" The adopted strategy was the same as that us...  Thyroid_Cancer\n",
       "2     coronary arterybypass grafting thrombosis ï¬b...  Thyroid_Cancer\n",
       "3      Solitary plasmacytoma SP of the skull is an u...  Thyroid_Cancer\n",
       "4      This study aimed to investigate serum matrix ...  Thyroid_Cancer\n",
       "...                                                 ...             ...\n",
       "7565  we report the case of a 24yearold man who pres...    Colon_Cancer\n",
       "7566  among synchronous colorectal cancers scrcs rep...    Colon_Cancer\n",
       "7567  the heterogeneity of cancer cells is generally...    Colon_Cancer\n",
       "7568  \"adipogenesis is the process through which mes...    Colon_Cancer\n",
       "7569  the periparturient period is one of the most c...    Colon_Cancer\n",
       "\n",
       "[7570 rows x 2 columns]"
      ]
     },
     "execution_count": 5,
     "metadata": {},
     "output_type": "execute_result"
    }
   ],
   "source": [
    "import pandas as pd\n",
    "df = pd.read_csv('/kaggle/input/biomedical-text-publication-classification/alldata_1_for_kaggle.csv',encoding=\"latin1\")\n",
    "df.drop(columns='Unnamed: 0', inplace=True)\n",
    "df.columns = ['class', 'doc']\n",
    "df = df.reindex(['doc', 'class'], axis=1)\n",
    "df"
   ]
  },
  {
   "cell_type": "code",
   "execution_count": 6,
   "id": "482baf59",
   "metadata": {
    "execution": {
     "iopub.execute_input": "2024-12-07T04:11:18.564418Z",
     "iopub.status.busy": "2024-12-07T04:11:18.564161Z",
     "iopub.status.idle": "2024-12-07T04:11:18.572228Z",
     "shell.execute_reply": "2024-12-07T04:11:18.571433Z"
    },
    "papermill": {
     "duration": 0.013963,
     "end_time": "2024-12-07T04:11:18.573870",
     "exception": false,
     "start_time": "2024-12-07T04:11:18.559907",
     "status": "completed"
    },
    "tags": []
   },
   "outputs": [
    {
     "data": {
      "text/html": [
       "<div>\n",
       "<style scoped>\n",
       "    .dataframe tbody tr th:only-of-type {\n",
       "        vertical-align: middle;\n",
       "    }\n",
       "\n",
       "    .dataframe tbody tr th {\n",
       "        vertical-align: top;\n",
       "    }\n",
       "\n",
       "    .dataframe thead th {\n",
       "        text-align: right;\n",
       "    }\n",
       "</style>\n",
       "<table border=\"1\" class=\"dataframe\">\n",
       "  <thead>\n",
       "    <tr style=\"text-align: right;\">\n",
       "      <th></th>\n",
       "      <th>doc</th>\n",
       "      <th>class</th>\n",
       "    </tr>\n",
       "  </thead>\n",
       "  <tbody>\n",
       "    <tr>\n",
       "      <th>0</th>\n",
       "      <td>Thyroid surgery in  children in a single insti...</td>\n",
       "      <td>Thyroid_Cancer</td>\n",
       "    </tr>\n",
       "    <tr>\n",
       "      <th>1</th>\n",
       "      <td>\" The adopted strategy was the same as that us...</td>\n",
       "      <td>Thyroid_Cancer</td>\n",
       "    </tr>\n",
       "    <tr>\n",
       "      <th>2</th>\n",
       "      <td>coronary arterybypass grafting thrombosis ï¬b...</td>\n",
       "      <td>Thyroid_Cancer</td>\n",
       "    </tr>\n",
       "    <tr>\n",
       "      <th>3</th>\n",
       "      <td>Solitary plasmacytoma SP of the skull is an u...</td>\n",
       "      <td>Thyroid_Cancer</td>\n",
       "    </tr>\n",
       "    <tr>\n",
       "      <th>4</th>\n",
       "      <td>This study aimed to investigate serum matrix ...</td>\n",
       "      <td>Thyroid_Cancer</td>\n",
       "    </tr>\n",
       "    <tr>\n",
       "      <th>5</th>\n",
       "      <td>This study was performed to explore the effec...</td>\n",
       "      <td>Thyroid_Cancer</td>\n",
       "    </tr>\n",
       "    <tr>\n",
       "      <th>6</th>\n",
       "      <td>This study was performed assess the clinical ...</td>\n",
       "      <td>Thyroid_Cancer</td>\n",
       "    </tr>\n",
       "    <tr>\n",
       "      <th>7</th>\n",
       "      <td>Journal of International Medical Research  Th...</td>\n",
       "      <td>Thyroid_Cancer</td>\n",
       "    </tr>\n",
       "    <tr>\n",
       "      <th>8</th>\n",
       "      <td>Gastric cancer GC persists as a worldwide pub...</td>\n",
       "      <td>Thyroid_Cancer</td>\n",
       "    </tr>\n",
       "    <tr>\n",
       "      <th>9</th>\n",
       "      <td>Scars Burns  HealingVolume     reuse guideli...</td>\n",
       "      <td>Thyroid_Cancer</td>\n",
       "    </tr>\n",
       "  </tbody>\n",
       "</table>\n",
       "</div>"
      ],
      "text/plain": [
       "                                                 doc           class\n",
       "0  Thyroid surgery in  children in a single insti...  Thyroid_Cancer\n",
       "1  \" The adopted strategy was the same as that us...  Thyroid_Cancer\n",
       "2  coronary arterybypass grafting thrombosis ï¬b...  Thyroid_Cancer\n",
       "3   Solitary plasmacytoma SP of the skull is an u...  Thyroid_Cancer\n",
       "4   This study aimed to investigate serum matrix ...  Thyroid_Cancer\n",
       "5   This study was performed to explore the effec...  Thyroid_Cancer\n",
       "6   This study was performed assess the clinical ...  Thyroid_Cancer\n",
       "7  Journal of International Medical Research  Th...  Thyroid_Cancer\n",
       "8   Gastric cancer GC persists as a worldwide pub...  Thyroid_Cancer\n",
       "9   Scars Burns  HealingVolume     reuse guideli...  Thyroid_Cancer"
      ]
     },
     "execution_count": 6,
     "metadata": {},
     "output_type": "execute_result"
    }
   ],
   "source": [
    "df[:10]"
   ]
  },
  {
   "cell_type": "code",
   "execution_count": 7,
   "id": "34121b72",
   "metadata": {
    "execution": {
     "iopub.execute_input": "2024-12-07T04:11:18.581724Z",
     "iopub.status.busy": "2024-12-07T04:11:18.581494Z",
     "iopub.status.idle": "2024-12-07T04:11:18.588739Z",
     "shell.execute_reply": "2024-12-07T04:11:18.588104Z"
    },
    "papermill": {
     "duration": 0.012934,
     "end_time": "2024-12-07T04:11:18.590273",
     "exception": false,
     "start_time": "2024-12-07T04:11:18.577339",
     "status": "completed"
    },
    "tags": []
   },
   "outputs": [],
   "source": [
    "# Shuffle the dataset for randomness\n",
    "dataset = df.sample(frac=1, random_state=65).reset_index(drop=True)"
   ]
  },
  {
   "cell_type": "code",
   "execution_count": 8,
   "id": "08c60509",
   "metadata": {
    "execution": {
     "iopub.execute_input": "2024-12-07T04:11:18.598498Z",
     "iopub.status.busy": "2024-12-07T04:11:18.598051Z",
     "iopub.status.idle": "2024-12-07T04:11:18.607410Z",
     "shell.execute_reply": "2024-12-07T04:11:18.606627Z"
    },
    "papermill": {
     "duration": 0.015164,
     "end_time": "2024-12-07T04:11:18.609062",
     "exception": false,
     "start_time": "2024-12-07T04:11:18.593898",
     "status": "completed"
    },
    "tags": []
   },
   "outputs": [
    {
     "data": {
      "text/html": [
       "<div>\n",
       "<style scoped>\n",
       "    .dataframe tbody tr th:only-of-type {\n",
       "        vertical-align: middle;\n",
       "    }\n",
       "\n",
       "    .dataframe tbody tr th {\n",
       "        vertical-align: top;\n",
       "    }\n",
       "\n",
       "    .dataframe thead th {\n",
       "        text-align: right;\n",
       "    }\n",
       "</style>\n",
       "<table border=\"1\" class=\"dataframe\">\n",
       "  <thead>\n",
       "    <tr style=\"text-align: right;\">\n",
       "      <th></th>\n",
       "      <th>doc</th>\n",
       "      <th>class</th>\n",
       "    </tr>\n",
       "  </thead>\n",
       "  <tbody>\n",
       "    <tr>\n",
       "      <th>0</th>\n",
       "      <td>\"This phenomenon which we did not observe in o...</td>\n",
       "      <td>Lung_Cancer</td>\n",
       "    </tr>\n",
       "    <tr>\n",
       "      <th>1</th>\n",
       "      <td>\"The protocol was approved by the Institutiona...</td>\n",
       "      <td>Lung_Cancer</td>\n",
       "    </tr>\n",
       "    <tr>\n",
       "      <th>2</th>\n",
       "      <td>\"  it is estimated that around  of patients w...</td>\n",
       "      <td>Colon_Cancer</td>\n",
       "    </tr>\n",
       "    <tr>\n",
       "      <th>3</th>\n",
       "      <td>\"cellular recognition of microbial dna is an e...</td>\n",
       "      <td>Colon_Cancer</td>\n",
       "    </tr>\n",
       "    <tr>\n",
       "      <th>4</th>\n",
       "      <td>\"Ann Surg233: 18919411176124 29 YamashitaJI K...</td>\n",
       "      <td>Lung_Cancer</td>\n",
       "    </tr>\n",
       "    <tr>\n",
       "      <th>5</th>\n",
       "      <td>99mtclabeled nanocolloid drugs development m...</td>\n",
       "      <td>Thyroid_Cancer</td>\n",
       "    </tr>\n",
       "    <tr>\n",
       "      <th>6</th>\n",
       "      <td>in  a novel coronavirus sarscov2 was found to ...</td>\n",
       "      <td>Colon_Cancer</td>\n",
       "    </tr>\n",
       "    <tr>\n",
       "      <th>7</th>\n",
       "      <td>\"Statistical analysis We used Chi-square test ...</td>\n",
       "      <td>Lung_Cancer</td>\n",
       "    </tr>\n",
       "    <tr>\n",
       "      <th>8</th>\n",
       "      <td>\"These results have also been included in our ...</td>\n",
       "      <td>Lung_Cancer</td>\n",
       "    </tr>\n",
       "    <tr>\n",
       "      <th>9</th>\n",
       "      <td>\"Therefore gathering a complete profile of mut...</td>\n",
       "      <td>Lung_Cancer</td>\n",
       "    </tr>\n",
       "    <tr>\n",
       "      <th>10</th>\n",
       "      <td>\"  patients with pelvic malignancies often rec...</td>\n",
       "      <td>Colon_Cancer</td>\n",
       "    </tr>\n",
       "    <tr>\n",
       "      <th>11</th>\n",
       "      <td>purpose  pancreatic ductal adenocarcinomas exh...</td>\n",
       "      <td>Colon_Cancer</td>\n",
       "    </tr>\n",
       "    <tr>\n",
       "      <th>12</th>\n",
       "      <td>Epidemiologic and clinical features of patien...</td>\n",
       "      <td>Thyroid_Cancer</td>\n",
       "    </tr>\n",
       "    <tr>\n",
       "      <th>13</th>\n",
       "      <td>several immunotherapeutic strategies that harn...</td>\n",
       "      <td>Colon_Cancer</td>\n",
       "    </tr>\n",
       "    <tr>\n",
       "      <th>14</th>\n",
       "      <td>\"  the cell proliferative markers are very imp...</td>\n",
       "      <td>Colon_Cancer</td>\n",
       "    </tr>\n",
       "    <tr>\n",
       "      <th>15</th>\n",
       "      <td>Polyphenol induced improvements in glucose met...</td>\n",
       "      <td>Thyroid_Cancer</td>\n",
       "    </tr>\n",
       "    <tr>\n",
       "      <th>16</th>\n",
       "      <td>Ofï¬cial Case Reports Journal of the Asian Pa...</td>\n",
       "      <td>Thyroid_Cancer</td>\n",
       "    </tr>\n",
       "    <tr>\n",
       "      <th>17</th>\n",
       "      <td>\"Silent lunch and tea break 7. Taking care of ...</td>\n",
       "      <td>Lung_Cancer</td>\n",
       "    </tr>\n",
       "    <tr>\n",
       "      <th>18</th>\n",
       "      <td>Incidence Differences Between First PrimaryCan...</td>\n",
       "      <td>Thyroid_Cancer</td>\n",
       "    </tr>\n",
       "    <tr>\n",
       "      <th>19</th>\n",
       "      <td>construct a circRnAmiRnAmRnA regulatory netwo...</td>\n",
       "      <td>Thyroid_Cancer</td>\n",
       "    </tr>\n",
       "  </tbody>\n",
       "</table>\n",
       "</div>"
      ],
      "text/plain": [
       "                                                  doc           class\n",
       "0   \"This phenomenon which we did not observe in o...     Lung_Cancer\n",
       "1   \"The protocol was approved by the Institutiona...     Lung_Cancer\n",
       "2   \"  it is estimated that around  of patients w...    Colon_Cancer\n",
       "3   \"cellular recognition of microbial dna is an e...    Colon_Cancer\n",
       "4   \"Ann Surg233: 18919411176124 29 YamashitaJI K...     Lung_Cancer\n",
       "5    99mtclabeled nanocolloid drugs development m...  Thyroid_Cancer\n",
       "6   in  a novel coronavirus sarscov2 was found to ...    Colon_Cancer\n",
       "7   \"Statistical analysis We used Chi-square test ...     Lung_Cancer\n",
       "8   \"These results have also been included in our ...     Lung_Cancer\n",
       "9   \"Therefore gathering a complete profile of mut...     Lung_Cancer\n",
       "10  \"  patients with pelvic malignancies often rec...    Colon_Cancer\n",
       "11  purpose  pancreatic ductal adenocarcinomas exh...    Colon_Cancer\n",
       "12   Epidemiologic and clinical features of patien...  Thyroid_Cancer\n",
       "13  several immunotherapeutic strategies that harn...    Colon_Cancer\n",
       "14  \"  the cell proliferative markers are very imp...    Colon_Cancer\n",
       "15  Polyphenol induced improvements in glucose met...  Thyroid_Cancer\n",
       "16  Ofï¬cial Case Reports Journal of the Asian Pa...  Thyroid_Cancer\n",
       "17  \"Silent lunch and tea break 7. Taking care of ...     Lung_Cancer\n",
       "18  Incidence Differences Between First PrimaryCan...  Thyroid_Cancer\n",
       "19   construct a circRnAmiRnAmRnA regulatory netwo...  Thyroid_Cancer"
      ]
     },
     "execution_count": 8,
     "metadata": {},
     "output_type": "execute_result"
    }
   ],
   "source": [
    "data = dataset[:20]\n",
    "data.head(20)"
   ]
  },
  {
   "cell_type": "code",
   "execution_count": 9,
   "id": "9e4fb72d",
   "metadata": {
    "execution": {
     "iopub.execute_input": "2024-12-07T04:11:18.617208Z",
     "iopub.status.busy": "2024-12-07T04:11:18.616966Z",
     "iopub.status.idle": "2024-12-07T04:11:18.624559Z",
     "shell.execute_reply": "2024-12-07T04:11:18.623805Z"
    },
    "papermill": {
     "duration": 0.013557,
     "end_time": "2024-12-07T04:11:18.626227",
     "exception": false,
     "start_time": "2024-12-07T04:11:18.612670",
     "status": "completed"
    },
    "tags": []
   },
   "outputs": [
    {
     "data": {
      "text/plain": [
       "array(['Lung_Cancer', 'Colon_Cancer', 'Thyroid_Cancer'], dtype=object)"
      ]
     },
     "execution_count": 9,
     "metadata": {},
     "output_type": "execute_result"
    }
   ],
   "source": [
    "data['class'].unique()"
   ]
  },
  {
   "cell_type": "code",
   "execution_count": 10,
   "id": "c6078ebb",
   "metadata": {
    "execution": {
     "iopub.execute_input": "2024-12-07T04:11:18.634486Z",
     "iopub.status.busy": "2024-12-07T04:11:18.634276Z",
     "iopub.status.idle": "2024-12-07T04:11:18.637478Z",
     "shell.execute_reply": "2024-12-07T04:11:18.636867Z"
    },
    "papermill": {
     "duration": 0.009051,
     "end_time": "2024-12-07T04:11:18.639006",
     "exception": false,
     "start_time": "2024-12-07T04:11:18.629955",
     "status": "completed"
    },
    "tags": []
   },
   "outputs": [],
   "source": [
    "# data.iloc[[1], [0]]"
   ]
  },
  {
   "cell_type": "code",
   "execution_count": 11,
   "id": "beff71af",
   "metadata": {
    "execution": {
     "iopub.execute_input": "2024-12-07T04:11:18.647266Z",
     "iopub.status.busy": "2024-12-07T04:11:18.647058Z",
     "iopub.status.idle": "2024-12-07T04:11:35.815139Z",
     "shell.execute_reply": "2024-12-07T04:11:35.814379Z"
    },
    "papermill": {
     "duration": 17.174457,
     "end_time": "2024-12-07T04:11:35.817174",
     "exception": false,
     "start_time": "2024-12-07T04:11:18.642717",
     "status": "completed"
    },
    "tags": []
   },
   "outputs": [],
   "source": [
    "from transformers import (\n",
    "    AutoModelForCausalLM,\n",
    "    AutoTokenizer,\n",
    "    pipeline, TextStreamer)\n",
    "\n",
    "import torch"
   ]
  },
  {
   "cell_type": "code",
   "execution_count": 12,
   "id": "60c91924",
   "metadata": {
    "execution": {
     "iopub.execute_input": "2024-12-07T04:11:35.826429Z",
     "iopub.status.busy": "2024-12-07T04:11:35.825937Z",
     "iopub.status.idle": "2024-12-07T04:11:36.473525Z",
     "shell.execute_reply": "2024-12-07T04:11:36.472552Z"
    },
    "papermill": {
     "duration": 0.654416,
     "end_time": "2024-12-07T04:11:36.475648",
     "exception": false,
     "start_time": "2024-12-07T04:11:35.821232",
     "status": "completed"
    },
    "tags": []
   },
   "outputs": [],
   "source": [
    "base_model = \"/kaggle/input/llama-3.2/transformers/3b-instruct/1\"\n",
    "\n",
    "tokenizer = AutoTokenizer.from_pretrained(base_model)"
   ]
  },
  {
   "cell_type": "code",
   "execution_count": 13,
   "id": "ae726593",
   "metadata": {
    "execution": {
     "iopub.execute_input": "2024-12-07T04:11:36.484882Z",
     "iopub.status.busy": "2024-12-07T04:11:36.484296Z",
     "iopub.status.idle": "2024-12-07T04:12:05.514896Z",
     "shell.execute_reply": "2024-12-07T04:12:05.514059Z"
    },
    "papermill": {
     "duration": 29.037606,
     "end_time": "2024-12-07T04:12:05.517282",
     "exception": false,
     "start_time": "2024-12-07T04:11:36.479676",
     "status": "completed"
    },
    "tags": []
   },
   "outputs": [
    {
     "data": {
      "application/vnd.jupyter.widget-view+json": {
       "model_id": "0c099a49fd6f4dd3afdab2a203a11ca1",
       "version_major": 2,
       "version_minor": 0
      },
      "text/plain": [
       "Loading checkpoint shards:   0%|          | 0/2 [00:00<?, ?it/s]"
      ]
     },
     "metadata": {},
     "output_type": "display_data"
    }
   ],
   "source": [
    "model = AutoModelForCausalLM.from_pretrained(\n",
    "    base_model,\n",
    "    return_dict=True,\n",
    "    low_cpu_mem_usage=True,\n",
    "    torch_dtype=torch.float16,\n",
    "    device_map=\"auto\",\n",
    "    trust_remote_code=True,\n",
    ")"
   ]
  },
  {
   "cell_type": "code",
   "execution_count": 14,
   "id": "cebac066",
   "metadata": {
    "execution": {
     "iopub.execute_input": "2024-12-07T04:12:05.532400Z",
     "iopub.status.busy": "2024-12-07T04:12:05.532123Z",
     "iopub.status.idle": "2024-12-07T04:12:05.536335Z",
     "shell.execute_reply": "2024-12-07T04:12:05.535556Z"
    },
    "papermill": {
     "duration": 0.012903,
     "end_time": "2024-12-07T04:12:05.537871",
     "exception": false,
     "start_time": "2024-12-07T04:12:05.524968",
     "status": "completed"
    },
    "tags": []
   },
   "outputs": [],
   "source": [
    "if tokenizer.pad_token_id is None:\n",
    "    tokenizer.pad_token_id = tokenizer.eos_token_id\n",
    "if model.config.pad_token_id is None:\n",
    "    model.config.pad_token_id = model.config.eos_token_id"
   ]
  },
  {
   "cell_type": "code",
   "execution_count": 15,
   "id": "a4f5a49a",
   "metadata": {
    "execution": {
     "iopub.execute_input": "2024-12-07T04:12:05.547169Z",
     "iopub.status.busy": "2024-12-07T04:12:05.546513Z",
     "iopub.status.idle": "2024-12-07T04:12:05.553227Z",
     "shell.execute_reply": "2024-12-07T04:12:05.552333Z"
    },
    "papermill": {
     "duration": 0.013397,
     "end_time": "2024-12-07T04:12:05.555200",
     "exception": false,
     "start_time": "2024-12-07T04:12:05.541803",
     "status": "completed"
    },
    "tags": []
   },
   "outputs": [
    {
     "name": "stderr",
     "output_type": "stream",
     "text": [
      "Device set to use cuda:0\n"
     ]
    }
   ],
   "source": [
    "pipe = pipeline(\n",
    "    \"text-generation\",\n",
    "    model=model,\n",
    "    tokenizer=tokenizer,\n",
    "    torch_dtype=torch.float16,\n",
    "    device_map=\"auto\",\n",
    ")"
   ]
  },
  {
   "cell_type": "code",
   "execution_count": 16,
   "id": "4377b747",
   "metadata": {
    "execution": {
     "iopub.execute_input": "2024-12-07T04:12:05.570437Z",
     "iopub.status.busy": "2024-12-07T04:12:05.569882Z",
     "iopub.status.idle": "2024-12-07T04:14:01.271291Z",
     "shell.execute_reply": "2024-12-07T04:14:01.270425Z"
    },
    "papermill": {
     "duration": 115.714788,
     "end_time": "2024-12-07T04:14:01.277170",
     "exception": false,
     "start_time": "2024-12-07T04:12:05.562382",
     "status": "completed"
    },
    "tags": []
   },
   "outputs": [
    {
     "name": "stderr",
     "output_type": "stream",
     "text": [
      "You seem to be using the pipelines sequentially on GPU. In order to maximize efficiency please use a dataset\n"
     ]
    },
    {
     "name": "stdout",
     "output_type": "stream",
     "text": [
      "Predictions saved to cancer_predictions_3b_zero_shot.json\n"
     ]
    }
   ],
   "source": [
    "import json\n",
    "# Prepare input for the model\n",
    "results = []\n",
    "for _, row in data.iterrows():\n",
    "    doc = row[\"doc\"]\n",
    "    messages = [\n",
    "        {\"role\": \"system\", \"content\": \"\"\"You are an AI model trained to predict cancer types like 'Lung_Cancer', 'Colon_Cancer' and  'Thyroid_Cancer'  based on medical texts.your \n",
    "        answer must be one words answer like ('Lung_Cancer', 'Colon_Cancer', 'Thyroid_Cancer').if you have conflit in \n",
    "        the understanding then only return the empty \"\"\"},\n",
    "        {\"role\": \"user\", \"content\": f\"Now predict the type of cancer for the following text:\\nText: {doc}\\nClass:\"}\n",
    "    ]\n",
    "    # Generate prompt\n",
    "    prompt = tokenizer.apply_chat_template(\n",
    "        messages, tokenize=False, add_generation_prompt=True\n",
    "    )\n",
    "    \n",
    "    # Generate output\n",
    "    outputs = pipe(prompt, max_new_tokens=20, do_sample=True)\n",
    "    \n",
    "    # Extract the generated text\n",
    "    generated_text = outputs[0][\"generated_text\"].split(\n",
    "                \"<|start_header_id|>assistant<|end_header_id|>\\n\\n\"\n",
    "            )[1]\n",
    "    # Append to results\n",
    "    results.append({\"input\": doc, \"predicted_class\": generated_text})\n",
    "\n",
    "# Save results in JSON format\n",
    "output_path = \"cancer_predictions_3b_zero_shot.json\"\n",
    "with open(output_path, \"w\") as f:\n",
    "    json.dump(results, f, indent=4)\n",
    "\n",
    "print(f\"Predictions saved to {output_path}\")"
   ]
  },
  {
   "cell_type": "code",
   "execution_count": 17,
   "id": "8fabfa92",
   "metadata": {
    "execution": {
     "iopub.execute_input": "2024-12-07T04:14:01.286379Z",
     "iopub.status.busy": "2024-12-07T04:14:01.286122Z",
     "iopub.status.idle": "2024-12-07T04:14:01.291116Z",
     "shell.execute_reply": "2024-12-07T04:14:01.290390Z"
    },
    "papermill": {
     "duration": 0.011416,
     "end_time": "2024-12-07T04:14:01.292656",
     "exception": false,
     "start_time": "2024-12-07T04:14:01.281240",
     "status": "completed"
    },
    "tags": []
   },
   "outputs": [],
   "source": [
    "example_text = \"\\n\".join([f\"Text: {row['doc']}\\nClass: {row['class']}\" for _, row in dataset[20:25].iterrows()])"
   ]
  },
  {
   "cell_type": "code",
   "execution_count": 18,
   "id": "5626c217",
   "metadata": {
    "execution": {
     "iopub.execute_input": "2024-12-07T04:14:01.301588Z",
     "iopub.status.busy": "2024-12-07T04:14:01.301346Z",
     "iopub.status.idle": "2024-12-07T04:36:03.672533Z",
     "shell.execute_reply": "2024-12-07T04:36:03.671592Z"
    },
    "papermill": {
     "duration": 1322.382297,
     "end_time": "2024-12-07T04:36:03.678936",
     "exception": false,
     "start_time": "2024-12-07T04:14:01.296639",
     "status": "completed"
    },
    "tags": []
   },
   "outputs": [
    {
     "name": "stdout",
     "output_type": "stream",
     "text": [
      "Predictions saved to cancer_predictions_3b_few_shot.json\n"
     ]
    }
   ],
   "source": [
    "# Prepare input for the model\n",
    "results = []\n",
    "for _, row in data.iterrows():\n",
    "    doc = row[\"doc\"]\n",
    "    \n",
    "    # Create the prompt with few-shot examples\n",
    "    messages = [\n",
    "        {\"role\": \"system\", \"content\": \"\"\"You are an AI model trained to predict cancer types like 'Lung_Cancer', 'Colon_Cancer' and  'Thyroid_Cancer'  based on medical texts.your \n",
    "        answer must be one words answer like ('Lung_Cancer', 'Colon_Cancer', 'Thyroid_Cancer').if you have conflit in \n",
    "        the understanding then only return the empty \"\"\"},\n",
    "        {\"role\": \"user\", \"content\": f\"Here are some examples:\\n{example_text}\\n\\nNow predict the type of cancer for the following text:\\nText: {doc}\\nClass:\"}\n",
    "    ]\n",
    "    \n",
    "    # Generate prompt\n",
    "    prompt = tokenizer.apply_chat_template(\n",
    "        messages, tokenize=False, add_generation_prompt=True\n",
    "    )\n",
    "    \n",
    "    # Generate output\n",
    "    outputs = pipe(prompt, max_new_tokens=120, do_sample=True)\n",
    "    \n",
    "    # Extract the generated text (predicted class)\n",
    "    generated_text = outputs[0][\"generated_text\"].split(\n",
    "                \"<|start_header_id|>assistant<|end_header_id|>\\n\\n\"\n",
    "            )[1]\n",
    "   \n",
    "    # Append to results\n",
    "    results.append({\"input\": doc, \"predicted_class\": generated_text})\n",
    "\n",
    "# Save results in JSON format\n",
    "output_path = \"cancer_predictions_3b_few_shot.json\"\n",
    "with open(output_path, \"w\") as f:\n",
    "    json.dump(results, f, indent=4)\n",
    "\n",
    "print(f\"Predictions saved to {output_path}\")"
   ]
  }
 ],
 "metadata": {
  "kaggle": {
   "accelerator": "gpu",
   "dataSources": [
    {
     "datasetId": 2389764,
     "sourceId": 4033428,
     "sourceType": "datasetVersion"
    },
    {
     "isSourceIdPinned": true,
     "modelId": 121027,
     "modelInstanceId": 100936,
     "sourceId": 120005,
     "sourceType": "modelInstanceVersion"
    }
   ],
   "dockerImageVersionId": 30786,
   "isGpuEnabled": true,
   "isInternetEnabled": true,
   "language": "python",
   "sourceType": "notebook"
  },
  "kernelspec": {
   "display_name": "Python 3",
   "language": "python",
   "name": "python3"
  },
  "language_info": {
   "codemirror_mode": {
    "name": "ipython",
    "version": 3
   },
   "file_extension": ".py",
   "mimetype": "text/x-python",
   "name": "python",
   "nbconvert_exporter": "python",
   "pygments_lexer": "ipython3",
   "version": "3.10.14"
  },
  "papermill": {
   "default_parameters": {},
   "duration": 1515.164392,
   "end_time": "2024-12-07T04:36:07.154618",
   "environment_variables": {},
   "exception": null,
   "input_path": "__notebook__.ipynb",
   "output_path": "__notebook__.ipynb",
   "parameters": {},
   "start_time": "2024-12-07T04:10:51.990226",
   "version": "2.6.0"
  },
  "widgets": {
   "application/vnd.jupyter.widget-state+json": {
    "state": {
     "064dbb0400ef463d80b2684c455d6c0d": {
      "model_module": "@jupyter-widgets/base",
      "model_module_version": "1.2.0",
      "model_name": "LayoutModel",
      "state": {
       "_model_module": "@jupyter-widgets/base",
       "_model_module_version": "1.2.0",
       "_model_name": "LayoutModel",
       "_view_count": null,
       "_view_module": "@jupyter-widgets/base",
       "_view_module_version": "1.2.0",
       "_view_name": "LayoutView",
       "align_content": null,
       "align_items": null,
       "align_self": null,
       "border": null,
       "bottom": null,
       "display": null,
       "flex": null,
       "flex_flow": null,
       "grid_area": null,
       "grid_auto_columns": null,
       "grid_auto_flow": null,
       "grid_auto_rows": null,
       "grid_column": null,
       "grid_gap": null,
       "grid_row": null,
       "grid_template_areas": null,
       "grid_template_columns": null,
       "grid_template_rows": null,
       "height": null,
       "justify_content": null,
       "justify_items": null,
       "left": null,
       "margin": null,
       "max_height": null,
       "max_width": null,
       "min_height": null,
       "min_width": null,
       "object_fit": null,
       "object_position": null,
       "order": null,
       "overflow": null,
       "overflow_x": null,
       "overflow_y": null,
       "padding": null,
       "right": null,
       "top": null,
       "visibility": null,
       "width": null
      }
     },
     "0bb2a69866a049b0af86c5ccb10fc709": {
      "model_module": "@jupyter-widgets/controls",
      "model_module_version": "1.5.0",
      "model_name": "HTMLModel",
      "state": {
       "_dom_classes": [],
       "_model_module": "@jupyter-widgets/controls",
       "_model_module_version": "1.5.0",
       "_model_name": "HTMLModel",
       "_view_count": null,
       "_view_module": "@jupyter-widgets/controls",
       "_view_module_version": "1.5.0",
       "_view_name": "HTMLView",
       "description": "",
       "description_tooltip": null,
       "layout": "IPY_MODEL_3bcffc59f55a4cd1a100f830faecb314",
       "placeholder": "​",
       "style": "IPY_MODEL_bb5df41681a84f94959fd164ebfb110c",
       "value": " 2/2 [00:28&lt;00:00, 12.90s/it]"
      }
     },
     "0c099a49fd6f4dd3afdab2a203a11ca1": {
      "model_module": "@jupyter-widgets/controls",
      "model_module_version": "1.5.0",
      "model_name": "HBoxModel",
      "state": {
       "_dom_classes": [],
       "_model_module": "@jupyter-widgets/controls",
       "_model_module_version": "1.5.0",
       "_model_name": "HBoxModel",
       "_view_count": null,
       "_view_module": "@jupyter-widgets/controls",
       "_view_module_version": "1.5.0",
       "_view_name": "HBoxView",
       "box_style": "",
       "children": [
        "IPY_MODEL_9d1d0dc714ab43d9a8d303e93732f586",
        "IPY_MODEL_3f103ad65df84c2787c75955f1e80311",
        "IPY_MODEL_0bb2a69866a049b0af86c5ccb10fc709"
       ],
       "layout": "IPY_MODEL_42963d78a56949ea99789273261a41cd"
      }
     },
     "3bcffc59f55a4cd1a100f830faecb314": {
      "model_module": "@jupyter-widgets/base",
      "model_module_version": "1.2.0",
      "model_name": "LayoutModel",
      "state": {
       "_model_module": "@jupyter-widgets/base",
       "_model_module_version": "1.2.0",
       "_model_name": "LayoutModel",
       "_view_count": null,
       "_view_module": "@jupyter-widgets/base",
       "_view_module_version": "1.2.0",
       "_view_name": "LayoutView",
       "align_content": null,
       "align_items": null,
       "align_self": null,
       "border": null,
       "bottom": null,
       "display": null,
       "flex": null,
       "flex_flow": null,
       "grid_area": null,
       "grid_auto_columns": null,
       "grid_auto_flow": null,
       "grid_auto_rows": null,
       "grid_column": null,
       "grid_gap": null,
       "grid_row": null,
       "grid_template_areas": null,
       "grid_template_columns": null,
       "grid_template_rows": null,
       "height": null,
       "justify_content": null,
       "justify_items": null,
       "left": null,
       "margin": null,
       "max_height": null,
       "max_width": null,
       "min_height": null,
       "min_width": null,
       "object_fit": null,
       "object_position": null,
       "order": null,
       "overflow": null,
       "overflow_x": null,
       "overflow_y": null,
       "padding": null,
       "right": null,
       "top": null,
       "visibility": null,
       "width": null
      }
     },
     "3f103ad65df84c2787c75955f1e80311": {
      "model_module": "@jupyter-widgets/controls",
      "model_module_version": "1.5.0",
      "model_name": "FloatProgressModel",
      "state": {
       "_dom_classes": [],
       "_model_module": "@jupyter-widgets/controls",
       "_model_module_version": "1.5.0",
       "_model_name": "FloatProgressModel",
       "_view_count": null,
       "_view_module": "@jupyter-widgets/controls",
       "_view_module_version": "1.5.0",
       "_view_name": "ProgressView",
       "bar_style": "success",
       "description": "",
       "description_tooltip": null,
       "layout": "IPY_MODEL_064dbb0400ef463d80b2684c455d6c0d",
       "max": 2.0,
       "min": 0.0,
       "orientation": "horizontal",
       "style": "IPY_MODEL_626528eae394463fa07fa3dbdc969539",
       "value": 2.0
      }
     },
     "41ae4b42e9e547f482740054dc61bb7b": {
      "model_module": "@jupyter-widgets/base",
      "model_module_version": "1.2.0",
      "model_name": "LayoutModel",
      "state": {
       "_model_module": "@jupyter-widgets/base",
       "_model_module_version": "1.2.0",
       "_model_name": "LayoutModel",
       "_view_count": null,
       "_view_module": "@jupyter-widgets/base",
       "_view_module_version": "1.2.0",
       "_view_name": "LayoutView",
       "align_content": null,
       "align_items": null,
       "align_self": null,
       "border": null,
       "bottom": null,
       "display": null,
       "flex": null,
       "flex_flow": null,
       "grid_area": null,
       "grid_auto_columns": null,
       "grid_auto_flow": null,
       "grid_auto_rows": null,
       "grid_column": null,
       "grid_gap": null,
       "grid_row": null,
       "grid_template_areas": null,
       "grid_template_columns": null,
       "grid_template_rows": null,
       "height": null,
       "justify_content": null,
       "justify_items": null,
       "left": null,
       "margin": null,
       "max_height": null,
       "max_width": null,
       "min_height": null,
       "min_width": null,
       "object_fit": null,
       "object_position": null,
       "order": null,
       "overflow": null,
       "overflow_x": null,
       "overflow_y": null,
       "padding": null,
       "right": null,
       "top": null,
       "visibility": null,
       "width": null
      }
     },
     "42963d78a56949ea99789273261a41cd": {
      "model_module": "@jupyter-widgets/base",
      "model_module_version": "1.2.0",
      "model_name": "LayoutModel",
      "state": {
       "_model_module": "@jupyter-widgets/base",
       "_model_module_version": "1.2.0",
       "_model_name": "LayoutModel",
       "_view_count": null,
       "_view_module": "@jupyter-widgets/base",
       "_view_module_version": "1.2.0",
       "_view_name": "LayoutView",
       "align_content": null,
       "align_items": null,
       "align_self": null,
       "border": null,
       "bottom": null,
       "display": null,
       "flex": null,
       "flex_flow": null,
       "grid_area": null,
       "grid_auto_columns": null,
       "grid_auto_flow": null,
       "grid_auto_rows": null,
       "grid_column": null,
       "grid_gap": null,
       "grid_row": null,
       "grid_template_areas": null,
       "grid_template_columns": null,
       "grid_template_rows": null,
       "height": null,
       "justify_content": null,
       "justify_items": null,
       "left": null,
       "margin": null,
       "max_height": null,
       "max_width": null,
       "min_height": null,
       "min_width": null,
       "object_fit": null,
       "object_position": null,
       "order": null,
       "overflow": null,
       "overflow_x": null,
       "overflow_y": null,
       "padding": null,
       "right": null,
       "top": null,
       "visibility": null,
       "width": null
      }
     },
     "626528eae394463fa07fa3dbdc969539": {
      "model_module": "@jupyter-widgets/controls",
      "model_module_version": "1.5.0",
      "model_name": "ProgressStyleModel",
      "state": {
       "_model_module": "@jupyter-widgets/controls",
       "_model_module_version": "1.5.0",
       "_model_name": "ProgressStyleModel",
       "_view_count": null,
       "_view_module": "@jupyter-widgets/base",
       "_view_module_version": "1.2.0",
       "_view_name": "StyleView",
       "bar_color": null,
       "description_width": ""
      }
     },
     "7639d3c52cc7497385fcbb4f21125de0": {
      "model_module": "@jupyter-widgets/controls",
      "model_module_version": "1.5.0",
      "model_name": "DescriptionStyleModel",
      "state": {
       "_model_module": "@jupyter-widgets/controls",
       "_model_module_version": "1.5.0",
       "_model_name": "DescriptionStyleModel",
       "_view_count": null,
       "_view_module": "@jupyter-widgets/base",
       "_view_module_version": "1.2.0",
       "_view_name": "StyleView",
       "description_width": ""
      }
     },
     "9d1d0dc714ab43d9a8d303e93732f586": {
      "model_module": "@jupyter-widgets/controls",
      "model_module_version": "1.5.0",
      "model_name": "HTMLModel",
      "state": {
       "_dom_classes": [],
       "_model_module": "@jupyter-widgets/controls",
       "_model_module_version": "1.5.0",
       "_model_name": "HTMLModel",
       "_view_count": null,
       "_view_module": "@jupyter-widgets/controls",
       "_view_module_version": "1.5.0",
       "_view_name": "HTMLView",
       "description": "",
       "description_tooltip": null,
       "layout": "IPY_MODEL_41ae4b42e9e547f482740054dc61bb7b",
       "placeholder": "​",
       "style": "IPY_MODEL_7639d3c52cc7497385fcbb4f21125de0",
       "value": "Loading checkpoint shards: 100%"
      }
     },
     "bb5df41681a84f94959fd164ebfb110c": {
      "model_module": "@jupyter-widgets/controls",
      "model_module_version": "1.5.0",
      "model_name": "DescriptionStyleModel",
      "state": {
       "_model_module": "@jupyter-widgets/controls",
       "_model_module_version": "1.5.0",
       "_model_name": "DescriptionStyleModel",
       "_view_count": null,
       "_view_module": "@jupyter-widgets/base",
       "_view_module_version": "1.2.0",
       "_view_name": "StyleView",
       "description_width": ""
      }
     }
    },
    "version_major": 2,
    "version_minor": 0
   }
  }
 },
 "nbformat": 4,
 "nbformat_minor": 5
}
