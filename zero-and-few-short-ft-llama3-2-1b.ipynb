{
 "cells": [
  {
   "cell_type": "code",
   "execution_count": 1,
   "id": "5dff1260",
   "metadata": {
    "_cell_guid": "b1076dfc-b9ad-4769-8c92-a6c4dae69d19",
    "_uuid": "8f2839f25d086af736a60e9eeb907d3b93b6e0e5",
    "execution": {
     "iopub.execute_input": "2024-12-07T04:11:28.567621Z",
     "iopub.status.busy": "2024-12-07T04:11:28.567351Z",
     "iopub.status.idle": "2024-12-07T04:11:28.571762Z",
     "shell.execute_reply": "2024-12-07T04:11:28.571117Z"
    },
    "papermill": {
     "duration": 0.01076,
     "end_time": "2024-12-07T04:11:28.573409",
     "exception": false,
     "start_time": "2024-12-07T04:11:28.562649",
     "status": "completed"
    },
    "tags": []
   },
   "outputs": [],
   "source": [
    "# # This Python 3 environment comes with many helpful analytics libraries installed\n",
    "# # It is defined by the kaggle/python Docker image: https://github.com/kaggle/docker-python\n",
    "# # For example, here's several helpful packages to load\n",
    "\n",
    "# import numpy as np # linear algebra\n",
    "# import pandas as pd # data processing, CSV file I/O (e.g. pd.read_csv)\n",
    "\n",
    "# # Input data files are available in the read-only \"../input/\" directory\n",
    "# # For example, running this (by clicking run or pressing Shift+Enter) will list all files under the input directory\n",
    "\n",
    "# import os\n",
    "# for dirname, _, filenames in os.walk('/kaggle/input'):\n",
    "#     for filename in filenames:\n",
    "#         print(os.path.join(dirname, filename))\n",
    "\n",
    "# # You can write up to 20GB to the current directory (/kaggle/working/) that gets preserved as output when you create a version using \"Save & Run All\" \n",
    "# # You can also write temporary files to /kaggle/temp/, but they won't be saved outside of the current session"
   ]
  },
  {
   "cell_type": "code",
   "execution_count": 2,
   "id": "9123e3e3",
   "metadata": {
    "execution": {
     "iopub.execute_input": "2024-12-07T04:11:28.581121Z",
     "iopub.status.busy": "2024-12-07T04:11:28.580861Z",
     "iopub.status.idle": "2024-12-07T04:11:48.612650Z",
     "shell.execute_reply": "2024-12-07T04:11:48.611448Z"
    },
    "papermill": {
     "duration": 20.037902,
     "end_time": "2024-12-07T04:11:48.614728",
     "exception": false,
     "start_time": "2024-12-07T04:11:28.576826",
     "status": "completed"
    },
    "tags": []
   },
   "outputs": [],
   "source": [
    "%%capture\n",
    "%pip install -U transformers accelerate\n",
    "# %pip install pyaudio wave torchaudio datasets\n"
   ]
  },
  {
   "cell_type": "code",
   "execution_count": 3,
   "id": "5998aff6",
   "metadata": {
    "execution": {
     "iopub.execute_input": "2024-12-07T04:11:48.623950Z",
     "iopub.status.busy": "2024-12-07T04:11:48.623659Z",
     "iopub.status.idle": "2024-12-07T04:11:48.627331Z",
     "shell.execute_reply": "2024-12-07T04:11:48.626621Z"
    },
    "papermill": {
     "duration": 0.009638,
     "end_time": "2024-12-07T04:11:48.628971",
     "exception": false,
     "start_time": "2024-12-07T04:11:48.619333",
     "status": "completed"
    },
    "tags": []
   },
   "outputs": [],
   "source": [
    "# from transformers import pipeline\n",
    "\n",
    "# pipe = pipeline(\"text-to-speech\", model=\"suno/bark-small\", device=0)  # Use GPU (device 0)\n"
   ]
  },
  {
   "cell_type": "code",
   "execution_count": 4,
   "id": "05bcc5e9",
   "metadata": {
    "execution": {
     "iopub.execute_input": "2024-12-07T04:11:48.636191Z",
     "iopub.status.busy": "2024-12-07T04:11:48.635907Z",
     "iopub.status.idle": "2024-12-07T04:11:48.639256Z",
     "shell.execute_reply": "2024-12-07T04:11:48.638612Z"
    },
    "papermill": {
     "duration": 0.008753,
     "end_time": "2024-12-07T04:11:48.640873",
     "exception": false,
     "start_time": "2024-12-07T04:11:48.632120",
     "status": "completed"
    },
    "tags": []
   },
   "outputs": [],
   "source": [
    "# text = \"\\n\\nI cannot predict the type of cancer based on a single sentence. Can I help you with anything else\"\n",
    "# output = pipe(text)\n",
    "# from IPython.display import Audio\n",
    "# Audio(output[\"audio\"], rate=output[\"sampling_rate\"])"
   ]
  },
  {
   "cell_type": "code",
   "execution_count": 5,
   "id": "f8d64edb",
   "metadata": {
    "execution": {
     "iopub.execute_input": "2024-12-07T04:11:48.648242Z",
     "iopub.status.busy": "2024-12-07T04:11:48.647970Z",
     "iopub.status.idle": "2024-12-07T04:11:52.365246Z",
     "shell.execute_reply": "2024-12-07T04:11:52.364447Z"
    },
    "papermill": {
     "duration": 3.723309,
     "end_time": "2024-12-07T04:11:52.367393",
     "exception": false,
     "start_time": "2024-12-07T04:11:48.644084",
     "status": "completed"
    },
    "tags": []
   },
   "outputs": [
    {
     "data": {
      "text/html": [
       "<div>\n",
       "<style scoped>\n",
       "    .dataframe tbody tr th:only-of-type {\n",
       "        vertical-align: middle;\n",
       "    }\n",
       "\n",
       "    .dataframe tbody tr th {\n",
       "        vertical-align: top;\n",
       "    }\n",
       "\n",
       "    .dataframe thead th {\n",
       "        text-align: right;\n",
       "    }\n",
       "</style>\n",
       "<table border=\"1\" class=\"dataframe\">\n",
       "  <thead>\n",
       "    <tr style=\"text-align: right;\">\n",
       "      <th></th>\n",
       "      <th>doc</th>\n",
       "      <th>class</th>\n",
       "    </tr>\n",
       "  </thead>\n",
       "  <tbody>\n",
       "    <tr>\n",
       "      <th>0</th>\n",
       "      <td>Thyroid surgery in  children in a single insti...</td>\n",
       "      <td>Thyroid_Cancer</td>\n",
       "    </tr>\n",
       "    <tr>\n",
       "      <th>1</th>\n",
       "      <td>\" The adopted strategy was the same as that us...</td>\n",
       "      <td>Thyroid_Cancer</td>\n",
       "    </tr>\n",
       "    <tr>\n",
       "      <th>2</th>\n",
       "      <td>coronary arterybypass grafting thrombosis ï¬b...</td>\n",
       "      <td>Thyroid_Cancer</td>\n",
       "    </tr>\n",
       "    <tr>\n",
       "      <th>3</th>\n",
       "      <td>Solitary plasmacytoma SP of the skull is an u...</td>\n",
       "      <td>Thyroid_Cancer</td>\n",
       "    </tr>\n",
       "    <tr>\n",
       "      <th>4</th>\n",
       "      <td>This study aimed to investigate serum matrix ...</td>\n",
       "      <td>Thyroid_Cancer</td>\n",
       "    </tr>\n",
       "    <tr>\n",
       "      <th>...</th>\n",
       "      <td>...</td>\n",
       "      <td>...</td>\n",
       "    </tr>\n",
       "    <tr>\n",
       "      <th>7565</th>\n",
       "      <td>we report the case of a 24yearold man who pres...</td>\n",
       "      <td>Colon_Cancer</td>\n",
       "    </tr>\n",
       "    <tr>\n",
       "      <th>7566</th>\n",
       "      <td>among synchronous colorectal cancers scrcs rep...</td>\n",
       "      <td>Colon_Cancer</td>\n",
       "    </tr>\n",
       "    <tr>\n",
       "      <th>7567</th>\n",
       "      <td>the heterogeneity of cancer cells is generally...</td>\n",
       "      <td>Colon_Cancer</td>\n",
       "    </tr>\n",
       "    <tr>\n",
       "      <th>7568</th>\n",
       "      <td>\"adipogenesis is the process through which mes...</td>\n",
       "      <td>Colon_Cancer</td>\n",
       "    </tr>\n",
       "    <tr>\n",
       "      <th>7569</th>\n",
       "      <td>the periparturient period is one of the most c...</td>\n",
       "      <td>Colon_Cancer</td>\n",
       "    </tr>\n",
       "  </tbody>\n",
       "</table>\n",
       "<p>7570 rows × 2 columns</p>\n",
       "</div>"
      ],
      "text/plain": [
       "                                                    doc           class\n",
       "0     Thyroid surgery in  children in a single insti...  Thyroid_Cancer\n",
       "1     \" The adopted strategy was the same as that us...  Thyroid_Cancer\n",
       "2     coronary arterybypass grafting thrombosis ï¬b...  Thyroid_Cancer\n",
       "3      Solitary plasmacytoma SP of the skull is an u...  Thyroid_Cancer\n",
       "4      This study aimed to investigate serum matrix ...  Thyroid_Cancer\n",
       "...                                                 ...             ...\n",
       "7565  we report the case of a 24yearold man who pres...    Colon_Cancer\n",
       "7566  among synchronous colorectal cancers scrcs rep...    Colon_Cancer\n",
       "7567  the heterogeneity of cancer cells is generally...    Colon_Cancer\n",
       "7568  \"adipogenesis is the process through which mes...    Colon_Cancer\n",
       "7569  the periparturient period is one of the most c...    Colon_Cancer\n",
       "\n",
       "[7570 rows x 2 columns]"
      ]
     },
     "execution_count": 5,
     "metadata": {},
     "output_type": "execute_result"
    }
   ],
   "source": [
    "import pandas as pd\n",
    "df = pd.read_csv('/kaggle/input/biomedical-text-publication-classification/alldata_1_for_kaggle.csv',encoding=\"latin1\")\n",
    "df.drop(columns='Unnamed: 0', inplace=True)\n",
    "df.columns = ['class', 'doc']\n",
    "df = df.reindex(['doc', 'class'], axis=1)\n",
    "df"
   ]
  },
  {
   "cell_type": "code",
   "execution_count": 6,
   "id": "ff614570",
   "metadata": {
    "execution": {
     "iopub.execute_input": "2024-12-07T04:11:52.376128Z",
     "iopub.status.busy": "2024-12-07T04:11:52.375858Z",
     "iopub.status.idle": "2024-12-07T04:11:52.384256Z",
     "shell.execute_reply": "2024-12-07T04:11:52.383455Z"
    },
    "papermill": {
     "duration": 0.014754,
     "end_time": "2024-12-07T04:11:52.385829",
     "exception": false,
     "start_time": "2024-12-07T04:11:52.371075",
     "status": "completed"
    },
    "tags": []
   },
   "outputs": [
    {
     "data": {
      "text/html": [
       "<div>\n",
       "<style scoped>\n",
       "    .dataframe tbody tr th:only-of-type {\n",
       "        vertical-align: middle;\n",
       "    }\n",
       "\n",
       "    .dataframe tbody tr th {\n",
       "        vertical-align: top;\n",
       "    }\n",
       "\n",
       "    .dataframe thead th {\n",
       "        text-align: right;\n",
       "    }\n",
       "</style>\n",
       "<table border=\"1\" class=\"dataframe\">\n",
       "  <thead>\n",
       "    <tr style=\"text-align: right;\">\n",
       "      <th></th>\n",
       "      <th>doc</th>\n",
       "      <th>class</th>\n",
       "    </tr>\n",
       "  </thead>\n",
       "  <tbody>\n",
       "    <tr>\n",
       "      <th>0</th>\n",
       "      <td>Thyroid surgery in  children in a single insti...</td>\n",
       "      <td>Thyroid_Cancer</td>\n",
       "    </tr>\n",
       "    <tr>\n",
       "      <th>1</th>\n",
       "      <td>\" The adopted strategy was the same as that us...</td>\n",
       "      <td>Thyroid_Cancer</td>\n",
       "    </tr>\n",
       "    <tr>\n",
       "      <th>2</th>\n",
       "      <td>coronary arterybypass grafting thrombosis ï¬b...</td>\n",
       "      <td>Thyroid_Cancer</td>\n",
       "    </tr>\n",
       "    <tr>\n",
       "      <th>3</th>\n",
       "      <td>Solitary plasmacytoma SP of the skull is an u...</td>\n",
       "      <td>Thyroid_Cancer</td>\n",
       "    </tr>\n",
       "    <tr>\n",
       "      <th>4</th>\n",
       "      <td>This study aimed to investigate serum matrix ...</td>\n",
       "      <td>Thyroid_Cancer</td>\n",
       "    </tr>\n",
       "    <tr>\n",
       "      <th>5</th>\n",
       "      <td>This study was performed to explore the effec...</td>\n",
       "      <td>Thyroid_Cancer</td>\n",
       "    </tr>\n",
       "    <tr>\n",
       "      <th>6</th>\n",
       "      <td>This study was performed assess the clinical ...</td>\n",
       "      <td>Thyroid_Cancer</td>\n",
       "    </tr>\n",
       "    <tr>\n",
       "      <th>7</th>\n",
       "      <td>Journal of International Medical Research  Th...</td>\n",
       "      <td>Thyroid_Cancer</td>\n",
       "    </tr>\n",
       "    <tr>\n",
       "      <th>8</th>\n",
       "      <td>Gastric cancer GC persists as a worldwide pub...</td>\n",
       "      <td>Thyroid_Cancer</td>\n",
       "    </tr>\n",
       "    <tr>\n",
       "      <th>9</th>\n",
       "      <td>Scars Burns  HealingVolume     reuse guideli...</td>\n",
       "      <td>Thyroid_Cancer</td>\n",
       "    </tr>\n",
       "  </tbody>\n",
       "</table>\n",
       "</div>"
      ],
      "text/plain": [
       "                                                 doc           class\n",
       "0  Thyroid surgery in  children in a single insti...  Thyroid_Cancer\n",
       "1  \" The adopted strategy was the same as that us...  Thyroid_Cancer\n",
       "2  coronary arterybypass grafting thrombosis ï¬b...  Thyroid_Cancer\n",
       "3   Solitary plasmacytoma SP of the skull is an u...  Thyroid_Cancer\n",
       "4   This study aimed to investigate serum matrix ...  Thyroid_Cancer\n",
       "5   This study was performed to explore the effec...  Thyroid_Cancer\n",
       "6   This study was performed assess the clinical ...  Thyroid_Cancer\n",
       "7  Journal of International Medical Research  Th...  Thyroid_Cancer\n",
       "8   Gastric cancer GC persists as a worldwide pub...  Thyroid_Cancer\n",
       "9   Scars Burns  HealingVolume     reuse guideli...  Thyroid_Cancer"
      ]
     },
     "execution_count": 6,
     "metadata": {},
     "output_type": "execute_result"
    }
   ],
   "source": [
    "df[:10]"
   ]
  },
  {
   "cell_type": "code",
   "execution_count": 7,
   "id": "23fddfc5",
   "metadata": {
    "execution": {
     "iopub.execute_input": "2024-12-07T04:11:52.393910Z",
     "iopub.status.busy": "2024-12-07T04:11:52.393662Z",
     "iopub.status.idle": "2024-12-07T04:11:52.400953Z",
     "shell.execute_reply": "2024-12-07T04:11:52.400076Z"
    },
    "papermill": {
     "duration": 0.013196,
     "end_time": "2024-12-07T04:11:52.402613",
     "exception": false,
     "start_time": "2024-12-07T04:11:52.389417",
     "status": "completed"
    },
    "tags": []
   },
   "outputs": [],
   "source": [
    "# Shuffle the dataset for randomness\n",
    "dataset = df.sample(frac=1, random_state=65).reset_index(drop=True)"
   ]
  },
  {
   "cell_type": "code",
   "execution_count": 8,
   "id": "a2351698",
   "metadata": {
    "execution": {
     "iopub.execute_input": "2024-12-07T04:11:52.410635Z",
     "iopub.status.busy": "2024-12-07T04:11:52.410410Z",
     "iopub.status.idle": "2024-12-07T04:11:52.419881Z",
     "shell.execute_reply": "2024-12-07T04:11:52.419118Z"
    },
    "papermill": {
     "duration": 0.015333,
     "end_time": "2024-12-07T04:11:52.421491",
     "exception": false,
     "start_time": "2024-12-07T04:11:52.406158",
     "status": "completed"
    },
    "tags": []
   },
   "outputs": [
    {
     "data": {
      "text/html": [
       "<div>\n",
       "<style scoped>\n",
       "    .dataframe tbody tr th:only-of-type {\n",
       "        vertical-align: middle;\n",
       "    }\n",
       "\n",
       "    .dataframe tbody tr th {\n",
       "        vertical-align: top;\n",
       "    }\n",
       "\n",
       "    .dataframe thead th {\n",
       "        text-align: right;\n",
       "    }\n",
       "</style>\n",
       "<table border=\"1\" class=\"dataframe\">\n",
       "  <thead>\n",
       "    <tr style=\"text-align: right;\">\n",
       "      <th></th>\n",
       "      <th>doc</th>\n",
       "      <th>class</th>\n",
       "    </tr>\n",
       "  </thead>\n",
       "  <tbody>\n",
       "    <tr>\n",
       "      <th>0</th>\n",
       "      <td>\"This phenomenon which we did not observe in o...</td>\n",
       "      <td>Lung_Cancer</td>\n",
       "    </tr>\n",
       "    <tr>\n",
       "      <th>1</th>\n",
       "      <td>\"The protocol was approved by the Institutiona...</td>\n",
       "      <td>Lung_Cancer</td>\n",
       "    </tr>\n",
       "    <tr>\n",
       "      <th>2</th>\n",
       "      <td>\"  it is estimated that around  of patients w...</td>\n",
       "      <td>Colon_Cancer</td>\n",
       "    </tr>\n",
       "    <tr>\n",
       "      <th>3</th>\n",
       "      <td>\"cellular recognition of microbial dna is an e...</td>\n",
       "      <td>Colon_Cancer</td>\n",
       "    </tr>\n",
       "    <tr>\n",
       "      <th>4</th>\n",
       "      <td>\"Ann Surg233: 18919411176124 29 YamashitaJI K...</td>\n",
       "      <td>Lung_Cancer</td>\n",
       "    </tr>\n",
       "    <tr>\n",
       "      <th>5</th>\n",
       "      <td>99mtclabeled nanocolloid drugs development m...</td>\n",
       "      <td>Thyroid_Cancer</td>\n",
       "    </tr>\n",
       "    <tr>\n",
       "      <th>6</th>\n",
       "      <td>in  a novel coronavirus sarscov2 was found to ...</td>\n",
       "      <td>Colon_Cancer</td>\n",
       "    </tr>\n",
       "    <tr>\n",
       "      <th>7</th>\n",
       "      <td>\"Statistical analysis We used Chi-square test ...</td>\n",
       "      <td>Lung_Cancer</td>\n",
       "    </tr>\n",
       "    <tr>\n",
       "      <th>8</th>\n",
       "      <td>\"These results have also been included in our ...</td>\n",
       "      <td>Lung_Cancer</td>\n",
       "    </tr>\n",
       "    <tr>\n",
       "      <th>9</th>\n",
       "      <td>\"Therefore gathering a complete profile of mut...</td>\n",
       "      <td>Lung_Cancer</td>\n",
       "    </tr>\n",
       "    <tr>\n",
       "      <th>10</th>\n",
       "      <td>\"  patients with pelvic malignancies often rec...</td>\n",
       "      <td>Colon_Cancer</td>\n",
       "    </tr>\n",
       "    <tr>\n",
       "      <th>11</th>\n",
       "      <td>purpose  pancreatic ductal adenocarcinomas exh...</td>\n",
       "      <td>Colon_Cancer</td>\n",
       "    </tr>\n",
       "    <tr>\n",
       "      <th>12</th>\n",
       "      <td>Epidemiologic and clinical features of patien...</td>\n",
       "      <td>Thyroid_Cancer</td>\n",
       "    </tr>\n",
       "    <tr>\n",
       "      <th>13</th>\n",
       "      <td>several immunotherapeutic strategies that harn...</td>\n",
       "      <td>Colon_Cancer</td>\n",
       "    </tr>\n",
       "    <tr>\n",
       "      <th>14</th>\n",
       "      <td>\"  the cell proliferative markers are very imp...</td>\n",
       "      <td>Colon_Cancer</td>\n",
       "    </tr>\n",
       "    <tr>\n",
       "      <th>15</th>\n",
       "      <td>Polyphenol induced improvements in glucose met...</td>\n",
       "      <td>Thyroid_Cancer</td>\n",
       "    </tr>\n",
       "    <tr>\n",
       "      <th>16</th>\n",
       "      <td>Ofï¬cial Case Reports Journal of the Asian Pa...</td>\n",
       "      <td>Thyroid_Cancer</td>\n",
       "    </tr>\n",
       "    <tr>\n",
       "      <th>17</th>\n",
       "      <td>\"Silent lunch and tea break 7. Taking care of ...</td>\n",
       "      <td>Lung_Cancer</td>\n",
       "    </tr>\n",
       "    <tr>\n",
       "      <th>18</th>\n",
       "      <td>Incidence Differences Between First PrimaryCan...</td>\n",
       "      <td>Thyroid_Cancer</td>\n",
       "    </tr>\n",
       "    <tr>\n",
       "      <th>19</th>\n",
       "      <td>construct a circRnAmiRnAmRnA regulatory netwo...</td>\n",
       "      <td>Thyroid_Cancer</td>\n",
       "    </tr>\n",
       "  </tbody>\n",
       "</table>\n",
       "</div>"
      ],
      "text/plain": [
       "                                                  doc           class\n",
       "0   \"This phenomenon which we did not observe in o...     Lung_Cancer\n",
       "1   \"The protocol was approved by the Institutiona...     Lung_Cancer\n",
       "2   \"  it is estimated that around  of patients w...    Colon_Cancer\n",
       "3   \"cellular recognition of microbial dna is an e...    Colon_Cancer\n",
       "4   \"Ann Surg233: 18919411176124 29 YamashitaJI K...     Lung_Cancer\n",
       "5    99mtclabeled nanocolloid drugs development m...  Thyroid_Cancer\n",
       "6   in  a novel coronavirus sarscov2 was found to ...    Colon_Cancer\n",
       "7   \"Statistical analysis We used Chi-square test ...     Lung_Cancer\n",
       "8   \"These results have also been included in our ...     Lung_Cancer\n",
       "9   \"Therefore gathering a complete profile of mut...     Lung_Cancer\n",
       "10  \"  patients with pelvic malignancies often rec...    Colon_Cancer\n",
       "11  purpose  pancreatic ductal adenocarcinomas exh...    Colon_Cancer\n",
       "12   Epidemiologic and clinical features of patien...  Thyroid_Cancer\n",
       "13  several immunotherapeutic strategies that harn...    Colon_Cancer\n",
       "14  \"  the cell proliferative markers are very imp...    Colon_Cancer\n",
       "15  Polyphenol induced improvements in glucose met...  Thyroid_Cancer\n",
       "16  Ofï¬cial Case Reports Journal of the Asian Pa...  Thyroid_Cancer\n",
       "17  \"Silent lunch and tea break 7. Taking care of ...     Lung_Cancer\n",
       "18  Incidence Differences Between First PrimaryCan...  Thyroid_Cancer\n",
       "19   construct a circRnAmiRnAmRnA regulatory netwo...  Thyroid_Cancer"
      ]
     },
     "execution_count": 8,
     "metadata": {},
     "output_type": "execute_result"
    }
   ],
   "source": [
    "data = dataset[:20]\n",
    "data.head(20)"
   ]
  },
  {
   "cell_type": "code",
   "execution_count": 9,
   "id": "e977165e",
   "metadata": {
    "execution": {
     "iopub.execute_input": "2024-12-07T04:11:52.430030Z",
     "iopub.status.busy": "2024-12-07T04:11:52.429788Z",
     "iopub.status.idle": "2024-12-07T04:11:52.437434Z",
     "shell.execute_reply": "2024-12-07T04:11:52.436664Z"
    },
    "papermill": {
     "duration": 0.013719,
     "end_time": "2024-12-07T04:11:52.439004",
     "exception": false,
     "start_time": "2024-12-07T04:11:52.425285",
     "status": "completed"
    },
    "tags": []
   },
   "outputs": [
    {
     "data": {
      "text/plain": [
       "array(['Lung_Cancer', 'Colon_Cancer', 'Thyroid_Cancer'], dtype=object)"
      ]
     },
     "execution_count": 9,
     "metadata": {},
     "output_type": "execute_result"
    }
   ],
   "source": [
    "data['class'].unique()"
   ]
  },
  {
   "cell_type": "code",
   "execution_count": 10,
   "id": "14efc19e",
   "metadata": {
    "execution": {
     "iopub.execute_input": "2024-12-07T04:11:52.447601Z",
     "iopub.status.busy": "2024-12-07T04:11:52.447354Z",
     "iopub.status.idle": "2024-12-07T04:11:52.450708Z",
     "shell.execute_reply": "2024-12-07T04:11:52.449949Z"
    },
    "papermill": {
     "duration": 0.009318,
     "end_time": "2024-12-07T04:11:52.452231",
     "exception": false,
     "start_time": "2024-12-07T04:11:52.442913",
     "status": "completed"
    },
    "tags": []
   },
   "outputs": [],
   "source": [
    "# data.iloc[[1], [0]]"
   ]
  },
  {
   "cell_type": "code",
   "execution_count": 11,
   "id": "33565fcb",
   "metadata": {
    "execution": {
     "iopub.execute_input": "2024-12-07T04:11:52.460704Z",
     "iopub.status.busy": "2024-12-07T04:11:52.460460Z",
     "iopub.status.idle": "2024-12-07T04:12:09.350856Z",
     "shell.execute_reply": "2024-12-07T04:12:09.350190Z"
    },
    "papermill": {
     "duration": 16.896921,
     "end_time": "2024-12-07T04:12:09.352911",
     "exception": false,
     "start_time": "2024-12-07T04:11:52.455990",
     "status": "completed"
    },
    "tags": []
   },
   "outputs": [],
   "source": [
    "from transformers import (\n",
    "    AutoModelForCausalLM,\n",
    "    AutoTokenizer,\n",
    "    pipeline, TextStreamer)\n",
    "\n",
    "import torch"
   ]
  },
  {
   "cell_type": "code",
   "execution_count": 12,
   "id": "988e939a",
   "metadata": {
    "execution": {
     "iopub.execute_input": "2024-12-07T04:12:09.362957Z",
     "iopub.status.busy": "2024-12-07T04:12:09.362013Z",
     "iopub.status.idle": "2024-12-07T04:12:09.940000Z",
     "shell.execute_reply": "2024-12-07T04:12:09.939031Z"
    },
    "papermill": {
     "duration": 0.584831,
     "end_time": "2024-12-07T04:12:09.942029",
     "exception": false,
     "start_time": "2024-12-07T04:12:09.357198",
     "status": "completed"
    },
    "tags": []
   },
   "outputs": [],
   "source": [
    "base_model = \"/kaggle/input/llama-3.2/transformers/1b-instruct/1\"\n",
    "\n",
    "tokenizer = AutoTokenizer.from_pretrained(base_model)"
   ]
  },
  {
   "cell_type": "code",
   "execution_count": 13,
   "id": "a0606a5b",
   "metadata": {
    "execution": {
     "iopub.execute_input": "2024-12-07T04:12:09.951462Z",
     "iopub.status.busy": "2024-12-07T04:12:09.951130Z",
     "iopub.status.idle": "2024-12-07T04:12:27.259419Z",
     "shell.execute_reply": "2024-12-07T04:12:27.258459Z"
    },
    "papermill": {
     "duration": 17.315911,
     "end_time": "2024-12-07T04:12:27.262381",
     "exception": false,
     "start_time": "2024-12-07T04:12:09.946470",
     "status": "completed"
    },
    "tags": []
   },
   "outputs": [],
   "source": [
    "model = AutoModelForCausalLM.from_pretrained(\n",
    "    base_model,\n",
    "    return_dict=True,\n",
    "    low_cpu_mem_usage=True,\n",
    "    torch_dtype=torch.float16,\n",
    "    device_map=\"auto\",\n",
    "    trust_remote_code=True,\n",
    ")"
   ]
  },
  {
   "cell_type": "code",
   "execution_count": 14,
   "id": "4b1afe7b",
   "metadata": {
    "execution": {
     "iopub.execute_input": "2024-12-07T04:12:27.277012Z",
     "iopub.status.busy": "2024-12-07T04:12:27.276734Z",
     "iopub.status.idle": "2024-12-07T04:12:27.280939Z",
     "shell.execute_reply": "2024-12-07T04:12:27.280186Z"
    },
    "papermill": {
     "duration": 0.012865,
     "end_time": "2024-12-07T04:12:27.282753",
     "exception": false,
     "start_time": "2024-12-07T04:12:27.269888",
     "status": "completed"
    },
    "tags": []
   },
   "outputs": [],
   "source": [
    "if tokenizer.pad_token_id is None:\n",
    "    tokenizer.pad_token_id = tokenizer.eos_token_id\n",
    "if model.config.pad_token_id is None:\n",
    "    model.config.pad_token_id = model.config.eos_token_id"
   ]
  },
  {
   "cell_type": "code",
   "execution_count": 15,
   "id": "b1624d9c",
   "metadata": {
    "execution": {
     "iopub.execute_input": "2024-12-07T04:12:27.291386Z",
     "iopub.status.busy": "2024-12-07T04:12:27.291083Z",
     "iopub.status.idle": "2024-12-07T04:12:27.297536Z",
     "shell.execute_reply": "2024-12-07T04:12:27.296629Z"
    },
    "papermill": {
     "duration": 0.012571,
     "end_time": "2024-12-07T04:12:27.299099",
     "exception": false,
     "start_time": "2024-12-07T04:12:27.286528",
     "status": "completed"
    },
    "tags": []
   },
   "outputs": [
    {
     "name": "stderr",
     "output_type": "stream",
     "text": [
      "Device set to use cuda:0\n"
     ]
    }
   ],
   "source": [
    "pipe = pipeline(\n",
    "    \"text-generation\",\n",
    "    model=model,\n",
    "    tokenizer=tokenizer,\n",
    "    torch_dtype=torch.float16,\n",
    "    device_map=\"auto\",\n",
    ")"
   ]
  },
  {
   "cell_type": "code",
   "execution_count": 16,
   "id": "b89177e2",
   "metadata": {
    "execution": {
     "iopub.execute_input": "2024-12-07T04:12:27.308335Z",
     "iopub.status.busy": "2024-12-07T04:12:27.307710Z",
     "iopub.status.idle": "2024-12-07T04:13:12.040731Z",
     "shell.execute_reply": "2024-12-07T04:13:12.039769Z"
    },
    "papermill": {
     "duration": 44.743013,
     "end_time": "2024-12-07T04:13:12.045976",
     "exception": false,
     "start_time": "2024-12-07T04:12:27.302963",
     "status": "completed"
    },
    "tags": []
   },
   "outputs": [
    {
     "name": "stderr",
     "output_type": "stream",
     "text": [
      "You seem to be using the pipelines sequentially on GPU. In order to maximize efficiency please use a dataset\n"
     ]
    },
    {
     "name": "stdout",
     "output_type": "stream",
     "text": [
      "Predictions saved to cancer_predictions_1b_zero_shot.json\n"
     ]
    }
   ],
   "source": [
    "import json\n",
    "# Prepare input for the model\n",
    "results = []\n",
    "for _, row in data.iterrows():\n",
    "    doc = row[\"doc\"]\n",
    "    messages = [\n",
    "        {\"role\": \"system\", \"content\": \"\"\"You are an AI model trained to predict cancer types like 'Lung_Cancer', 'Colon_Cancer' and  'Thyroid_Cancer'  based on medical texts.your \n",
    "        answer must be one words answer like ('Lung_Cancer', 'Colon_Cancer', 'Thyroid_Cancer').if you have conflit in \n",
    "        the understanding then only return the empty \"\"\"},\n",
    "        {\"role\": \"user\", \"content\": f\"Now predict the type of cancer for the following text:\\nText: {doc}\\nClass:\"}\n",
    "    ]\n",
    "    # Generate prompt\n",
    "    prompt = tokenizer.apply_chat_template(\n",
    "        messages, tokenize=False, add_generation_prompt=True\n",
    "    )\n",
    "    \n",
    "    # Generate output\n",
    "    outputs = pipe(prompt, max_new_tokens=20, do_sample=True)\n",
    "    \n",
    "    # Extract the generated text\n",
    "    generated_text = outputs[0][\"generated_text\"].split(\n",
    "                \"<|start_header_id|>assistant<|end_header_id|>\\n\\n\"\n",
    "            )[1]\n",
    "    # Append to results\n",
    "    results.append({\"input\": doc, \"predicted_class\": generated_text})\n",
    "\n",
    "# Save results in JSON format\n",
    "output_path = \"cancer_predictions_1b_zero_shot.json\"\n",
    "with open(output_path, \"w\") as f:\n",
    "    json.dump(results, f, indent=4)\n",
    "\n",
    "print(f\"Predictions saved to {output_path}\")"
   ]
  },
  {
   "cell_type": "code",
   "execution_count": 17,
   "id": "99921256",
   "metadata": {
    "execution": {
     "iopub.execute_input": "2024-12-07T04:13:12.055638Z",
     "iopub.status.busy": "2024-12-07T04:13:12.054757Z",
     "iopub.status.idle": "2024-12-07T04:13:12.059606Z",
     "shell.execute_reply": "2024-12-07T04:13:12.058970Z"
    },
    "papermill": {
     "duration": 0.011129,
     "end_time": "2024-12-07T04:13:12.061104",
     "exception": false,
     "start_time": "2024-12-07T04:13:12.049975",
     "status": "completed"
    },
    "tags": []
   },
   "outputs": [],
   "source": [
    "example_text = \"\\n\".join([f\"Text: {row['doc']}\\nClass: {row['class']}\" for _, row in dataset[20:25].iterrows()])"
   ]
  },
  {
   "cell_type": "code",
   "execution_count": 18,
   "id": "345f8502",
   "metadata": {
    "execution": {
     "iopub.execute_input": "2024-12-07T04:13:12.069891Z",
     "iopub.status.busy": "2024-12-07T04:13:12.069675Z",
     "iopub.status.idle": "2024-12-07T04:28:42.826113Z",
     "shell.execute_reply": "2024-12-07T04:28:42.825166Z"
    },
    "papermill": {
     "duration": 930.767241,
     "end_time": "2024-12-07T04:28:42.832300",
     "exception": false,
     "start_time": "2024-12-07T04:13:12.065059",
     "status": "completed"
    },
    "tags": []
   },
   "outputs": [
    {
     "name": "stdout",
     "output_type": "stream",
     "text": [
      "Predictions saved to cancer_predictions_1b_few_shot.json\n"
     ]
    }
   ],
   "source": [
    "# Prepare input for the model\n",
    "results = []\n",
    "for _, row in data.iterrows():\n",
    "    doc = row[\"doc\"]\n",
    "    \n",
    "    # Create the prompt with few-shot examples\n",
    "    messages = [\n",
    "        {\"role\": \"system\", \"content\": \"\"\"You are an AI model trained to predict cancer types like 'Lung_Cancer', 'Colon_Cancer' and  'Thyroid_Cancer'  based on medical texts.your \n",
    "        answer must be one words answer like ('Lung_Cancer', 'Colon_Cancer', 'Thyroid_Cancer').if you have conflit in \n",
    "        the understanding then only return the empty \"\"\"},\n",
    "        {\"role\": \"user\", \"content\": f\"Here are some examples:\\n{example_text}\\n\\nNow predict the type of cancer for the following text:\\nText: {doc}\\nClass:\"}\n",
    "    ]\n",
    "    \n",
    "    # Generate prompt\n",
    "    prompt = tokenizer.apply_chat_template(\n",
    "        messages, tokenize=False, add_generation_prompt=True\n",
    "    )\n",
    "    \n",
    "    # Generate output\n",
    "    outputs = pipe(prompt, max_new_tokens=120, do_sample=True)\n",
    "    \n",
    "    # Extract the generated text (predicted class)\n",
    "    generated_text = outputs[0][\"generated_text\"].split(\n",
    "                \"<|start_header_id|>assistant<|end_header_id|>\\n\\n\"\n",
    "            )[1]\n",
    "   \n",
    "    # Append to results\n",
    "    results.append({\"input\": doc, \"predicted_class\": generated_text})\n",
    "\n",
    "# Save results in JSON format\n",
    "output_path = \"cancer_predictions_1b_few_shot.json\"\n",
    "with open(output_path, \"w\") as f:\n",
    "    json.dump(results, f, indent=4)\n",
    "\n",
    "print(f\"Predictions saved to {output_path}\")"
   ]
  }
 ],
 "metadata": {
  "kaggle": {
   "accelerator": "gpu",
   "dataSources": [
    {
     "datasetId": 2389764,
     "sourceId": 4033428,
     "sourceType": "datasetVersion"
    },
    {
     "isSourceIdPinned": true,
     "modelId": 121027,
     "modelInstanceId": 100933,
     "sourceId": 120002,
     "sourceType": "modelInstanceVersion"
    }
   ],
   "dockerImageVersionId": 30805,
   "isGpuEnabled": true,
   "isInternetEnabled": true,
   "language": "python",
   "sourceType": "notebook"
  },
  "kernelspec": {
   "display_name": "Python 3",
   "language": "python",
   "name": "python3"
  },
  "language_info": {
   "codemirror_mode": {
    "name": "ipython",
    "version": 3
   },
   "file_extension": ".py",
   "mimetype": "text/x-python",
   "name": "python",
   "nbconvert_exporter": "python",
   "pygments_lexer": "ipython3",
   "version": "3.10.14"
  },
  "papermill": {
   "default_parameters": {},
   "duration": 1040.058859,
   "end_time": "2024-12-07T04:28:46.207360",
   "environment_variables": {},
   "exception": null,
   "input_path": "__notebook__.ipynb",
   "output_path": "__notebook__.ipynb",
   "parameters": {},
   "start_time": "2024-12-07T04:11:26.148501",
   "version": "2.6.0"
  }
 },
 "nbformat": 4,
 "nbformat_minor": 5
}
